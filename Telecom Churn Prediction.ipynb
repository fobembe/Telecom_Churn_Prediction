{
  "nbformat": 4,
  "nbformat_minor": 0,
  "metadata": {
    "colab": {
      "name": "Telecom_undersample.ipynb",
      "provenance": [],
      "mount_file_id": "1Fp1ruBMUumDUYAyBfFzI64tdKLTl80ue",
      "authorship_tag": "ABX9TyNkSEsa7xjOQCgNyNIZh5jY",
      "include_colab_link": true
    },
    "kernelspec": {
      "name": "python3",
      "display_name": "Python 3"
    },
    "language_info": {
      "name": "python"
    },
    "accelerator": "GPU"
  },
  "cells": [
    {
      "cell_type": "markdown",
      "metadata": {
        "id": "view-in-github",
        "colab_type": "text"
      },
      "source": [
        "<a href=\"https://colab.research.google.com/github/fobembe/Telecom_Churn_Prediction/blob/main/Telecom%20Churn%20Prediction.ipynb\" target=\"_parent\"><img src=\"https://colab.research.google.com/assets/colab-badge.svg\" alt=\"Open In Colab\"/></a>"
      ]
    },
    {
      "cell_type": "markdown",
      "source": [
        "## This is the second part of the Telcom Churn Analysis"
      ],
      "metadata": {
        "id": "_ffhdGBPwPrh"
      }
    },
    {
      "cell_type": "code",
      "execution_count": 1,
      "metadata": {
        "id": "kkfmk7a4cM1K"
      },
      "outputs": [],
      "source": [
        "import pandas as pd\n",
        "import numpy as np\n",
        "import matplotlib.pyplot as plt\n",
        "import seaborn as sns"
      ]
    },
    {
      "cell_type": "code",
      "source": [
        "from sklearn.preprocessing import StandardScaler,RobustScaler,QuantileTransformer\n",
        "from sklearn.feature_selection import SelectKBest,mutual_info_classif\n",
        "from sklearn.decomposition import PCA\n",
        "from sklearn.pipeline import Pipeline\n",
        "from sklearn.model_selection import GridSearchCV\n",
        "from sklearn.linear_model import LogisticRegression\n",
        "from sklearn.ensemble import RandomForestClassifier\n",
        "from sklearn.neighbors import KNeighborsClassifier"
      ],
      "metadata": {
        "id": "HOUZUoxbcZZ_"
      },
      "execution_count": 2,
      "outputs": []
    },
    {
      "cell_type": "code",
      "source": [
        "from imblearn.over_sampling import RandomOverSampler\n",
        "from imblearn.under_sampling import RandomUnderSampler"
      ],
      "metadata": {
        "id": "Xsh_-hjtdyuI"
      },
      "execution_count": 3,
      "outputs": []
    },
    {
      "cell_type": "code",
      "source": [
        "df = pd.read_csv(\"/content/drive/MyDrive/DSC 550/data.csv\")\n",
        "df.head()"
      ],
      "metadata": {
        "colab": {
          "base_uri": "https://localhost:8080/",
          "height": 299
        },
        "id": "YS9WpXlJe1-1",
        "outputId": "46fc8744-a85b-4354-c7a0-950b1a04247f"
      },
      "execution_count": 4,
      "outputs": [
        {
          "output_type": "execute_result",
          "data": {
            "text/plain": [
              "   SeniorCitizen  tenure  MonthlyCharges  TotalCharges  Churn  gender_Male  \\\n",
              "0              0       1           29.85         29.85      0            0   \n",
              "1              0      34           56.95       1889.50      0            1   \n",
              "2              0       2           53.85        108.15      1            1   \n",
              "3              0      45           42.30       1840.75      0            1   \n",
              "4              0       2           70.70        151.65      1            0   \n",
              "\n",
              "   Partner_Yes  Dependents_Yes  PhoneService  NonMult_PhoneService  ...  \\\n",
              "0            1               0             0                     1  ...   \n",
              "1            0               0             1                     0  ...   \n",
              "2            0               0             1                     0  ...   \n",
              "3            0               0             0                     1  ...   \n",
              "4            0               0             1                     0  ...   \n",
              "\n",
              "   NoStreamTV  StreamTV  NoStreamMovie  StreamingMovies  OneYrContract  \\\n",
              "0           0         0              0                0              0   \n",
              "1           0         0              0                0              1   \n",
              "2           0         0              0                0              0   \n",
              "3           0         0              0                0              1   \n",
              "4           0         0              0                0              0   \n",
              "\n",
              "   TwoYrContract  PaperLessBilling  CreditCardPayment  ElectCheckPayment  \\\n",
              "0              0                 1                  0                  1   \n",
              "1              0                 0                  0                  0   \n",
              "2              0                 1                  0                  0   \n",
              "3              0                 0                  0                  0   \n",
              "4              0                 1                  0                  1   \n",
              "\n",
              "   MailedChkPayment  \n",
              "0                 0  \n",
              "1                 1  \n",
              "2                 1  \n",
              "3                 0  \n",
              "4                 0  \n",
              "\n",
              "[5 rows x 31 columns]"
            ],
            "text/html": [
              "\n",
              "  <div id=\"df-f192b5b3-f55e-4250-8508-a96a44fd6beb\">\n",
              "    <div class=\"colab-df-container\">\n",
              "      <div>\n",
              "<style scoped>\n",
              "    .dataframe tbody tr th:only-of-type {\n",
              "        vertical-align: middle;\n",
              "    }\n",
              "\n",
              "    .dataframe tbody tr th {\n",
              "        vertical-align: top;\n",
              "    }\n",
              "\n",
              "    .dataframe thead th {\n",
              "        text-align: right;\n",
              "    }\n",
              "</style>\n",
              "<table border=\"1\" class=\"dataframe\">\n",
              "  <thead>\n",
              "    <tr style=\"text-align: right;\">\n",
              "      <th></th>\n",
              "      <th>SeniorCitizen</th>\n",
              "      <th>tenure</th>\n",
              "      <th>MonthlyCharges</th>\n",
              "      <th>TotalCharges</th>\n",
              "      <th>Churn</th>\n",
              "      <th>gender_Male</th>\n",
              "      <th>Partner_Yes</th>\n",
              "      <th>Dependents_Yes</th>\n",
              "      <th>PhoneService</th>\n",
              "      <th>NonMult_PhoneService</th>\n",
              "      <th>...</th>\n",
              "      <th>NoStreamTV</th>\n",
              "      <th>StreamTV</th>\n",
              "      <th>NoStreamMovie</th>\n",
              "      <th>StreamingMovies</th>\n",
              "      <th>OneYrContract</th>\n",
              "      <th>TwoYrContract</th>\n",
              "      <th>PaperLessBilling</th>\n",
              "      <th>CreditCardPayment</th>\n",
              "      <th>ElectCheckPayment</th>\n",
              "      <th>MailedChkPayment</th>\n",
              "    </tr>\n",
              "  </thead>\n",
              "  <tbody>\n",
              "    <tr>\n",
              "      <th>0</th>\n",
              "      <td>0</td>\n",
              "      <td>1</td>\n",
              "      <td>29.85</td>\n",
              "      <td>29.85</td>\n",
              "      <td>0</td>\n",
              "      <td>0</td>\n",
              "      <td>1</td>\n",
              "      <td>0</td>\n",
              "      <td>0</td>\n",
              "      <td>1</td>\n",
              "      <td>...</td>\n",
              "      <td>0</td>\n",
              "      <td>0</td>\n",
              "      <td>0</td>\n",
              "      <td>0</td>\n",
              "      <td>0</td>\n",
              "      <td>0</td>\n",
              "      <td>1</td>\n",
              "      <td>0</td>\n",
              "      <td>1</td>\n",
              "      <td>0</td>\n",
              "    </tr>\n",
              "    <tr>\n",
              "      <th>1</th>\n",
              "      <td>0</td>\n",
              "      <td>34</td>\n",
              "      <td>56.95</td>\n",
              "      <td>1889.50</td>\n",
              "      <td>0</td>\n",
              "      <td>1</td>\n",
              "      <td>0</td>\n",
              "      <td>0</td>\n",
              "      <td>1</td>\n",
              "      <td>0</td>\n",
              "      <td>...</td>\n",
              "      <td>0</td>\n",
              "      <td>0</td>\n",
              "      <td>0</td>\n",
              "      <td>0</td>\n",
              "      <td>1</td>\n",
              "      <td>0</td>\n",
              "      <td>0</td>\n",
              "      <td>0</td>\n",
              "      <td>0</td>\n",
              "      <td>1</td>\n",
              "    </tr>\n",
              "    <tr>\n",
              "      <th>2</th>\n",
              "      <td>0</td>\n",
              "      <td>2</td>\n",
              "      <td>53.85</td>\n",
              "      <td>108.15</td>\n",
              "      <td>1</td>\n",
              "      <td>1</td>\n",
              "      <td>0</td>\n",
              "      <td>0</td>\n",
              "      <td>1</td>\n",
              "      <td>0</td>\n",
              "      <td>...</td>\n",
              "      <td>0</td>\n",
              "      <td>0</td>\n",
              "      <td>0</td>\n",
              "      <td>0</td>\n",
              "      <td>0</td>\n",
              "      <td>0</td>\n",
              "      <td>1</td>\n",
              "      <td>0</td>\n",
              "      <td>0</td>\n",
              "      <td>1</td>\n",
              "    </tr>\n",
              "    <tr>\n",
              "      <th>3</th>\n",
              "      <td>0</td>\n",
              "      <td>45</td>\n",
              "      <td>42.30</td>\n",
              "      <td>1840.75</td>\n",
              "      <td>0</td>\n",
              "      <td>1</td>\n",
              "      <td>0</td>\n",
              "      <td>0</td>\n",
              "      <td>0</td>\n",
              "      <td>1</td>\n",
              "      <td>...</td>\n",
              "      <td>0</td>\n",
              "      <td>0</td>\n",
              "      <td>0</td>\n",
              "      <td>0</td>\n",
              "      <td>1</td>\n",
              "      <td>0</td>\n",
              "      <td>0</td>\n",
              "      <td>0</td>\n",
              "      <td>0</td>\n",
              "      <td>0</td>\n",
              "    </tr>\n",
              "    <tr>\n",
              "      <th>4</th>\n",
              "      <td>0</td>\n",
              "      <td>2</td>\n",
              "      <td>70.70</td>\n",
              "      <td>151.65</td>\n",
              "      <td>1</td>\n",
              "      <td>0</td>\n",
              "      <td>0</td>\n",
              "      <td>0</td>\n",
              "      <td>1</td>\n",
              "      <td>0</td>\n",
              "      <td>...</td>\n",
              "      <td>0</td>\n",
              "      <td>0</td>\n",
              "      <td>0</td>\n",
              "      <td>0</td>\n",
              "      <td>0</td>\n",
              "      <td>0</td>\n",
              "      <td>1</td>\n",
              "      <td>0</td>\n",
              "      <td>1</td>\n",
              "      <td>0</td>\n",
              "    </tr>\n",
              "  </tbody>\n",
              "</table>\n",
              "<p>5 rows × 31 columns</p>\n",
              "</div>\n",
              "      <button class=\"colab-df-convert\" onclick=\"convertToInteractive('df-f192b5b3-f55e-4250-8508-a96a44fd6beb')\"\n",
              "              title=\"Convert this dataframe to an interactive table.\"\n",
              "              style=\"display:none;\">\n",
              "        \n",
              "  <svg xmlns=\"http://www.w3.org/2000/svg\" height=\"24px\"viewBox=\"0 0 24 24\"\n",
              "       width=\"24px\">\n",
              "    <path d=\"M0 0h24v24H0V0z\" fill=\"none\"/>\n",
              "    <path d=\"M18.56 5.44l.94 2.06.94-2.06 2.06-.94-2.06-.94-.94-2.06-.94 2.06-2.06.94zm-11 1L8.5 8.5l.94-2.06 2.06-.94-2.06-.94L8.5 2.5l-.94 2.06-2.06.94zm10 10l.94 2.06.94-2.06 2.06-.94-2.06-.94-.94-2.06-.94 2.06-2.06.94z\"/><path d=\"M17.41 7.96l-1.37-1.37c-.4-.4-.92-.59-1.43-.59-.52 0-1.04.2-1.43.59L10.3 9.45l-7.72 7.72c-.78.78-.78 2.05 0 2.83L4 21.41c.39.39.9.59 1.41.59.51 0 1.02-.2 1.41-.59l7.78-7.78 2.81-2.81c.8-.78.8-2.07 0-2.86zM5.41 20L4 18.59l7.72-7.72 1.47 1.35L5.41 20z\"/>\n",
              "  </svg>\n",
              "      </button>\n",
              "      \n",
              "  <style>\n",
              "    .colab-df-container {\n",
              "      display:flex;\n",
              "      flex-wrap:wrap;\n",
              "      gap: 12px;\n",
              "    }\n",
              "\n",
              "    .colab-df-convert {\n",
              "      background-color: #E8F0FE;\n",
              "      border: none;\n",
              "      border-radius: 50%;\n",
              "      cursor: pointer;\n",
              "      display: none;\n",
              "      fill: #1967D2;\n",
              "      height: 32px;\n",
              "      padding: 0 0 0 0;\n",
              "      width: 32px;\n",
              "    }\n",
              "\n",
              "    .colab-df-convert:hover {\n",
              "      background-color: #E2EBFA;\n",
              "      box-shadow: 0px 1px 2px rgba(60, 64, 67, 0.3), 0px 1px 3px 1px rgba(60, 64, 67, 0.15);\n",
              "      fill: #174EA6;\n",
              "    }\n",
              "\n",
              "    [theme=dark] .colab-df-convert {\n",
              "      background-color: #3B4455;\n",
              "      fill: #D2E3FC;\n",
              "    }\n",
              "\n",
              "    [theme=dark] .colab-df-convert:hover {\n",
              "      background-color: #434B5C;\n",
              "      box-shadow: 0px 1px 3px 1px rgba(0, 0, 0, 0.15);\n",
              "      filter: drop-shadow(0px 1px 2px rgba(0, 0, 0, 0.3));\n",
              "      fill: #FFFFFF;\n",
              "    }\n",
              "  </style>\n",
              "\n",
              "      <script>\n",
              "        const buttonEl =\n",
              "          document.querySelector('#df-f192b5b3-f55e-4250-8508-a96a44fd6beb button.colab-df-convert');\n",
              "        buttonEl.style.display =\n",
              "          google.colab.kernel.accessAllowed ? 'block' : 'none';\n",
              "\n",
              "        async function convertToInteractive(key) {\n",
              "          const element = document.querySelector('#df-f192b5b3-f55e-4250-8508-a96a44fd6beb');\n",
              "          const dataTable =\n",
              "            await google.colab.kernel.invokeFunction('convertToInteractive',\n",
              "                                                     [key], {});\n",
              "          if (!dataTable) return;\n",
              "\n",
              "          const docLinkHtml = 'Like what you see? Visit the ' +\n",
              "            '<a target=\"_blank\" href=https://colab.research.google.com/notebooks/data_table.ipynb>data table notebook</a>'\n",
              "            + ' to learn more about interactive tables.';\n",
              "          element.innerHTML = '';\n",
              "          dataTable['output_type'] = 'display_data';\n",
              "          await google.colab.output.renderOutput(dataTable, element);\n",
              "          const docLink = document.createElement('div');\n",
              "          docLink.innerHTML = docLinkHtml;\n",
              "          element.appendChild(docLink);\n",
              "        }\n",
              "      </script>\n",
              "    </div>\n",
              "  </div>\n",
              "  "
            ]
          },
          "metadata": {},
          "execution_count": 4
        }
      ]
    },
    {
      "cell_type": "code",
      "source": [
        "df['Churn'].value_counts()"
      ],
      "metadata": {
        "colab": {
          "base_uri": "https://localhost:8080/"
        },
        "id": "UsydA4Ehe8dt",
        "outputId": "8a0572a9-208c-4026-9e2e-ba402d22f5c4"
      },
      "execution_count": 5,
      "outputs": [
        {
          "output_type": "execute_result",
          "data": {
            "text/plain": [
              "0    5163\n",
              "1    1869\n",
              "Name: Churn, dtype: int64"
            ]
          },
          "metadata": {},
          "execution_count": 5
        }
      ]
    },
    {
      "cell_type": "code",
      "source": [
        "X = df.drop('Churn',axis=1)\n",
        "y = df['Churn']"
      ],
      "metadata": {
        "id": "mnJVbY8KfCIi"
      },
      "execution_count": 6,
      "outputs": []
    },
    {
      "cell_type": "code",
      "source": [
        "undersample = RandomUnderSampler(sampling_strategy='majority')\n",
        "X_over,y_over = undersample.fit_resample(X,y)"
      ],
      "metadata": {
        "id": "gdHN5rfRf_sH"
      },
      "execution_count": 7,
      "outputs": []
    },
    {
      "cell_type": "code",
      "source": [
        "y_over.value_counts()"
      ],
      "metadata": {
        "colab": {
          "base_uri": "https://localhost:8080/"
        },
        "id": "OdwlYmFQhABf",
        "outputId": "84e13b53-c8bc-4b3a-f8da-0e92c861b7f8"
      },
      "execution_count": 8,
      "outputs": [
        {
          "output_type": "execute_result",
          "data": {
            "text/plain": [
              "0    1869\n",
              "1    1869\n",
              "Name: Churn, dtype: int64"
            ]
          },
          "metadata": {},
          "execution_count": 8
        }
      ]
    },
    {
      "cell_type": "code",
      "source": [
        "from sklearn.model_selection import train_test_split"
      ],
      "metadata": {
        "id": "MhuI85VB32Ko"
      },
      "execution_count": 9,
      "outputs": []
    },
    {
      "cell_type": "code",
      "source": [
        "# Get X_train, X_test, y_train and y_test\n",
        "\n",
        "X_train, X_test, y_train, y_test = train_test_split(X_over, y_over, test_size=0.20, random_state=42)"
      ],
      "metadata": {
        "id": "QLvd01nchIgG"
      },
      "execution_count": 10,
      "outputs": []
    },
    {
      "cell_type": "markdown",
      "source": [
        "Setting up a pipeline"
      ],
      "metadata": {
        "id": "0I5ZfO4u5OQW"
      }
    },
    {
      "cell_type": "code",
      "source": [
        "pipe = Pipeline([('scaler',StandardScaler()),\n",
        "                 ('selector',SelectKBest(mutual_info_classif,k=7)),\n",
        "                 ('classifier',LogisticRegression())])"
      ],
      "metadata": {
        "id": "FQSNQuiS80b7"
      },
      "execution_count": 11,
      "outputs": []
    },
    {
      "cell_type": "markdown",
      "source": [
        "Define the search Space"
      ],
      "metadata": {
        "id": "p0Je4DV2-NhX"
      }
    },
    {
      "cell_type": "code",
      "source": [
        "search_space = [{'classifier':[LogisticRegression()],\n",
        "                 'classifier__penalty':['l1','l2'],\n",
        "                 'classifier__C':np.logspace(0,4,10)},\n",
        "                {'classifier':[KNeighborsClassifier()],\n",
        "                'classifier__n_neighbors':[3,5,8,11],\n",
        "                 'classifier__weights':['uniform','distance']},\n",
        "                {'classifier':[RandomForestClassifier()],\n",
        "                 'classifier__n_estimators':[10,100,1000],\n",
        "                 'classifier__max_features':[1,2,3]}]"
      ],
      "metadata": {
        "id": "HQT1S-G0-Lnx"
      },
      "execution_count": 12,
      "outputs": []
    },
    {
      "cell_type": "code",
      "source": [
        "# Run the gridsearch\n",
        "\n",
        "model = GridSearchCV(pipe,search_space,cv=10,verbose=0)\n",
        "model.fit(X_train,y_train)\n"
      ],
      "metadata": {
        "colab": {
          "base_uri": "https://localhost:8080/"
        },
        "id": "rMrlxCzu-cXL",
        "outputId": "843810ce-db54-42dc-c5c4-c1b02d4f499c"
      },
      "execution_count": 13,
      "outputs": [
        {
          "output_type": "stream",
          "name": "stderr",
          "text": [
            "/usr/local/lib/python3.7/dist-packages/sklearn/model_selection/_validation.py:372: FitFailedWarning: \n",
            "100 fits failed out of a total of 370.\n",
            "The score on these train-test partitions for these parameters will be set to nan.\n",
            "If these failures are not expected, you can try to debug them by setting error_score='raise'.\n",
            "\n",
            "Below are more details about the failures:\n",
            "--------------------------------------------------------------------------------\n",
            "100 fits failed with the following error:\n",
            "Traceback (most recent call last):\n",
            "  File \"/usr/local/lib/python3.7/dist-packages/sklearn/model_selection/_validation.py\", line 680, in _fit_and_score\n",
            "    estimator.fit(X_train, y_train, **fit_params)\n",
            "  File \"/usr/local/lib/python3.7/dist-packages/sklearn/pipeline.py\", line 394, in fit\n",
            "    self._final_estimator.fit(Xt, y, **fit_params_last_step)\n",
            "  File \"/usr/local/lib/python3.7/dist-packages/sklearn/linear_model/_logistic.py\", line 1461, in fit\n",
            "    solver = _check_solver(self.solver, self.penalty, self.dual)\n",
            "  File \"/usr/local/lib/python3.7/dist-packages/sklearn/linear_model/_logistic.py\", line 449, in _check_solver\n",
            "    % (solver, penalty)\n",
            "ValueError: Solver lbfgs supports only 'l2' or 'none' penalties, got l1 penalty.\n",
            "\n",
            "  warnings.warn(some_fits_failed_message, FitFailedWarning)\n",
            "/usr/local/lib/python3.7/dist-packages/sklearn/model_selection/_search.py:972: UserWarning: One or more of the test scores are non-finite: [       nan 0.75183946        nan 0.74782609        nan 0.75150502\n",
            "        nan 0.75317726        nan 0.75150502        nan 0.74782609\n",
            "        nan 0.75351171        nan 0.75117057        nan 0.75217391\n",
            "        nan 0.75083612 0.7173913  0.70468227 0.73344482 0.71471572\n",
            " 0.74080268 0.71371237 0.75652174 0.71973244 0.70100334 0.72207358\n",
            " 0.71505017 0.70267559 0.71103679 0.71371237 0.69598662 0.71003344\n",
            " 0.71304348]\n",
            "  category=UserWarning,\n"
          ]
        },
        {
          "output_type": "execute_result",
          "data": {
            "text/plain": [
              "GridSearchCV(cv=10,\n",
              "             estimator=Pipeline(steps=[('scaler', StandardScaler()),\n",
              "                                       ('selector',\n",
              "                                        SelectKBest(k=7,\n",
              "                                                    score_func=<function mutual_info_classif at 0x7f14623fd0e0>)),\n",
              "                                       ('classifier', LogisticRegression())]),\n",
              "             param_grid=[{'classifier': [LogisticRegression()],\n",
              "                          'classifier__C': array([1.00000000e+00, 2.78255940e+00, 7.74263683e+00, 2.15443469e+01,\n",
              "       5.99484250e+01, 1.668...64158883e+02, 1.29154967e+03,\n",
              "       3.59381366e+03, 1.00000000e+04]),\n",
              "                          'classifier__penalty': ['l1', 'l2']},\n",
              "                         {'classifier': [KNeighborsClassifier(n_neighbors=11)],\n",
              "                          'classifier__n_neighbors': [3, 5, 8, 11],\n",
              "                          'classifier__weights': ['uniform', 'distance']},\n",
              "                         {'classifier': [RandomForestClassifier()],\n",
              "                          'classifier__max_features': [1, 2, 3],\n",
              "                          'classifier__n_estimators': [10, 100, 1000]}])"
            ]
          },
          "metadata": {},
          "execution_count": 13
        }
      ]
    },
    {
      "cell_type": "markdown",
      "source": [
        "Obtain predictions for train and test sets"
      ],
      "metadata": {
        "id": "uJFLtoe9ALfA"
      }
    },
    {
      "cell_type": "code",
      "source": [
        "best_estm = model.best_estimator_\n",
        "print(best_estm)"
      ],
      "metadata": {
        "colab": {
          "base_uri": "https://localhost:8080/"
        },
        "id": "xfsvxVdzAisZ",
        "outputId": "6e1923e4-6bd8-40c1-d376-8aa1776a0ab5"
      },
      "execution_count": 14,
      "outputs": [
        {
          "output_type": "stream",
          "name": "stdout",
          "text": [
            "Pipeline(steps=[('scaler', StandardScaler()),\n",
            "                ('selector',\n",
            "                 SelectKBest(k=7,\n",
            "                             score_func=<function mutual_info_classif at 0x7f14623fd0e0>)),\n",
            "                ('classifier', KNeighborsClassifier(n_neighbors=11))])\n"
          ]
        }
      ]
    },
    {
      "cell_type": "code",
      "source": [
        "from sklearn.metrics import mean_squared_error"
      ],
      "metadata": {
        "id": "mhWN3RU6Awc7"
      },
      "execution_count": 15,
      "outputs": []
    },
    {
      "cell_type": "code",
      "source": [
        "y_pred_train = best_estm.predict(X_train)\n",
        "mse = mean_squared_error(y_pred_train,y_train)\n",
        "print(\"MSE: %2f\" %mse)"
      ],
      "metadata": {
        "colab": {
          "base_uri": "https://localhost:8080/"
        },
        "id": "D4aW0qBs-qPW",
        "outputId": "53239f73-5f79-4401-d422-e9c1f3aec651"
      },
      "execution_count": 16,
      "outputs": [
        {
          "output_type": "stream",
          "name": "stdout",
          "text": [
            "MSE: 0.219732\n"
          ]
        }
      ]
    },
    {
      "cell_type": "code",
      "source": [
        "y_pred_test = best_estm.predict(X_test)\n",
        "mse = mean_squared_error(y_pred_test,y_test)\n",
        "print(\"MSE: %2f\" %mse)"
      ],
      "metadata": {
        "colab": {
          "base_uri": "https://localhost:8080/"
        },
        "id": "SddGLT0XA2go",
        "outputId": "cdb89588-3039-4da4-dfd5-03b34372af85"
      },
      "execution_count": 17,
      "outputs": [
        {
          "output_type": "stream",
          "name": "stdout",
          "text": [
            "MSE: 0.260695\n"
          ]
        }
      ]
    },
    {
      "cell_type": "markdown",
      "source": [
        "Print classification Report"
      ],
      "metadata": {
        "id": "Lk35Gc-6BW9K"
      }
    },
    {
      "cell_type": "code",
      "source": [
        "from sklearn.metrics import confusion_matrix,classification_report"
      ],
      "metadata": {
        "id": "FU-M0A80BOXc"
      },
      "execution_count": 18,
      "outputs": []
    },
    {
      "cell_type": "code",
      "source": [
        "cm = confusion_matrix(y_test,y_pred_test)"
      ],
      "metadata": {
        "id": "KB1idsLnBbhQ"
      },
      "execution_count": 19,
      "outputs": []
    },
    {
      "cell_type": "code",
      "source": [
        "print(cm)"
      ],
      "metadata": {
        "colab": {
          "base_uri": "https://localhost:8080/"
        },
        "id": "h5c050EdBm1E",
        "outputId": "59260653-80b9-4bee-80ec-696109863644"
      },
      "execution_count": 20,
      "outputs": [
        {
          "output_type": "stream",
          "name": "stdout",
          "text": [
            "[[269 110]\n",
            " [ 85 284]]\n"
          ]
        }
      ]
    },
    {
      "cell_type": "code",
      "source": [
        "print(classification_report(y_test,y_pred_test))"
      ],
      "metadata": {
        "colab": {
          "base_uri": "https://localhost:8080/"
        },
        "id": "YS5Ad_SyBqFG",
        "outputId": "d3271baa-78df-4175-8c38-12aadc308732"
      },
      "execution_count": 21,
      "outputs": [
        {
          "output_type": "stream",
          "name": "stdout",
          "text": [
            "              precision    recall  f1-score   support\n",
            "\n",
            "           0       0.76      0.71      0.73       379\n",
            "           1       0.72      0.77      0.74       369\n",
            "\n",
            "    accuracy                           0.74       748\n",
            "   macro avg       0.74      0.74      0.74       748\n",
            "weighted avg       0.74      0.74      0.74       748\n",
            "\n"
          ]
        }
      ]
    },
    {
      "cell_type": "markdown",
      "source": [
        "Having adjusted my class size using random undersampler, the classification of those that churn has improved from 55% to 75%.  I also incorporated feature selection into the pipeline model to reduce unnecessary noise.\n",
        "\n",
        "\n",
        "Many thanks Prof for your advice."
      ],
      "metadata": {
        "id": "8nzANCfmCRwG"
      }
    },
    {
      "cell_type": "code",
      "source": [
        ""
      ],
      "metadata": {
        "id": "nmzD1QfpB0mb"
      },
      "execution_count": 21,
      "outputs": []
    }
  ]
}